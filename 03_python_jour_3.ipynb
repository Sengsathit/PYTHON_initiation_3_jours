{
 "cells": [
  {
   "cell_type": "markdown",
   "id": "fe181af4",
   "metadata": {},
   "source": [
    "# 🐍 Introduction à Python - Jour 3\n",
    "\n",
    "Dans cette troisième journée nous allons découvrir la **Programmation Orientée Objet** (**POO**), un paradigme essentiel dans le développement logiciel.\n",
    "\n",
    "Nous allons apprendre :   \n",
    "- à créer des classes, des objets, des méthodes\n",
    "- à structurer un programme avec ces concepts.\n"
   ]
  },
  {
   "cell_type": "markdown",
   "id": "481f821d",
   "metadata": {},
   "source": [
    "**Pourquoi la POO ?**\n",
    "\n",
    "La Programmation Orientée Objet (POO) permet de structurer un programme autour **d’objets** qui représentent des entités du monde réel.\n",
    "\n",
    "Elle permet :\n",
    "- de **modéliser** des objets du monde réel,\n",
    "- de **structurer** le code de manière plus claire et maintenable,\n",
    "- de **réutiliser** du code grâce à l’héritage.\n",
    "\n",
    "Ell repose sur 4 piliers :\n",
    "1. **Encapsulation**\n",
    "2. **Abstraction**\n",
    "3. **Héritage**\n",
    "4. **Polymorphisme**"
   ]
  },
  {
   "cell_type": "markdown",
   "id": "56736890",
   "metadata": {},
   "source": [
    "___"
   ]
  },
  {
   "cell_type": "markdown",
   "id": "183802f5",
   "metadata": {},
   "source": [
    "## 🧱 1. Créer une classe et instancier des objets"
   ]
  },
  {
   "cell_type": "markdown",
   "id": "06f44ce6",
   "metadata": {},
   "source": [
    "Une **classe** est un plan de construction (blueprint).  \n",
    "Un **objet** est une instance concrète de cette classe.\n",
    "\n",
    "Chaque objet peut avoir :\n",
    "- des **attributs** (état)\n",
    "- des **méthodes** (comportements)\n",
    "\n",
    "La méthode spéciale `__init__` s'exécute à la création d’un objet."
   ]
  },
  {
   "cell_type": "code",
   "execution_count": 14,
   "id": "a8c18f08",
   "metadata": {},
   "outputs": [
    {
     "name": "stdout",
     "output_type": "stream",
     "text": [
      "Rex\n",
      "Berger Allemand\n"
     ]
    }
   ],
   "source": [
    "class Dog:\n",
    "    def __init__(self, name: str, breed: str):\n",
    "        self.name = name\n",
    "        self.breed = breed\n",
    "\n",
    "# Création d'une instance\n",
    "my_dog = Dog(name=\"Rex\", breed=\"Berger Allemand\")\n",
    "\n",
    "print(my_dog.name)\n",
    "print(my_dog.breed)"
   ]
  },
  {
   "cell_type": "markdown",
   "id": "49855295",
   "metadata": {},
   "source": [
    "### 🧩 À vous de jouer :\n",
    "- Créez une classe `Car` avec 3 attributs : `brand`, `model`, `year`\n",
    "- Créez un objet `my_car` et affichez ses informations"
   ]
  },
  {
   "cell_type": "code",
   "execution_count": 15,
   "id": "75e2292b",
   "metadata": {},
   "outputs": [],
   "source": [
    "# Votre code ici"
   ]
  },
  {
   "cell_type": "markdown",
   "id": "3e825d6f",
   "metadata": {},
   "source": [
    "___"
   ]
  },
  {
   "cell_type": "markdown",
   "id": "06354ff4",
   "metadata": {},
   "source": [
    "## 🔧 2. Ajouter des comportements (méthodes)"
   ]
  },
  {
   "cell_type": "markdown",
   "id": "d69f7572",
   "metadata": {},
   "source": [
    "Les **méthodes** sont des fonctions définies à l’intérieur d’une classe.  \n",
    "Elles peuvent manipuler les attributs via `self`.\n",
    "\n",
    "⚠️ `self` représente l’**instance en cours** (comme `this` en JavaScript)."
   ]
  },
  {
   "cell_type": "code",
   "execution_count": 16,
   "id": "0e4ef101",
   "metadata": {},
   "outputs": [
    {
     "name": "stdout",
     "output_type": "stream",
     "text": [
      "Rex aboie !\n",
      "Rex court. Énergie : 90\n"
     ]
    }
   ],
   "source": [
    "class Dog:\n",
    "    def __init__(self, name: str):\n",
    "        self.name = name\n",
    "        self.energy = 100\n",
    "\n",
    "    def bark(self):\n",
    "        print(f\"{self.name} aboie !\")\n",
    "\n",
    "    def run(self):\n",
    "        self.energy -= 10\n",
    "        print(f\"{self.name} court. Énergie : {self.energy}\")\n",
    "\n",
    "rex = Dog(\"Rex\")\n",
    "rex.bark()\n",
    "rex.run()"
   ]
  },
  {
   "cell_type": "markdown",
   "id": "22c7a9e9",
   "metadata": {},
   "source": [
    "### 🧩 À vous de jouer :  \n",
    "\n",
    "- Ajoutez une méthode `display_infos()` dans votre classe `Car` qui affiche tous ses attributs"
   ]
  },
  {
   "cell_type": "code",
   "execution_count": 17,
   "id": "62bd4e12",
   "metadata": {},
   "outputs": [],
   "source": [
    "# Votre code ici"
   ]
  },
  {
   "cell_type": "markdown",
   "id": "a8f587d0",
   "metadata": {},
   "source": [
    "___"
   ]
  },
  {
   "cell_type": "markdown",
   "id": "2e4a2214",
   "metadata": {},
   "source": [
    "## 🔒 3. Encapsulation & conventions"
   ]
  },
  {
   "cell_type": "markdown",
   "id": "77602ac0",
   "metadata": {},
   "source": [
    "On peut \"protéger\" des attributs :\n",
    "- `_attribut` : usage interne (convention)\n",
    "\n",
    "Cela permet de mieux **contrôler l’accès** à certaines données."
   ]
  },
  {
   "cell_type": "code",
   "execution_count": 18,
   "id": "f78c10b4",
   "metadata": {},
   "outputs": [
    {
     "name": "stdout",
     "output_type": "stream",
     "text": [
      "Solde de Jean : 150 €\n"
     ]
    }
   ],
   "source": [
    "class BankAccount:\n",
    "    def __init__(self, owner: str, balance: float=0):\n",
    "        self.owner = owner\n",
    "        self._balance = balance  # convention d’attribut \"protégé\"\n",
    "\n",
    "    def deposit(self, amount: float):\n",
    "        self._balance += amount\n",
    "\n",
    "    def display_balance(self):\n",
    "        print(f\"Solde de {self.owner} : {self._balance} €\")\n",
    "\n",
    "compte = BankAccount(owner=\"Jean\")\n",
    "compte.deposit(amount=150)\n",
    "compte.display_balance()"
   ]
  },
  {
   "cell_type": "markdown",
   "id": "9f1c7738",
   "metadata": {},
   "source": [
    "### 🧩 À vous de jouer :  \n",
    "\n",
    "- Modifiez votre classe `Car` pour avoir un attribut `_mileage` et une méthode `drive(km: int)` qui l’augmente"
   ]
  },
  {
   "cell_type": "code",
   "execution_count": 19,
   "id": "53b41ad2",
   "metadata": {},
   "outputs": [],
   "source": [
    "# Votre code ici"
   ]
  },
  {
   "cell_type": "markdown",
   "id": "d1210814",
   "metadata": {},
   "source": [
    "___"
   ]
  },
  {
   "cell_type": "markdown",
   "id": "8b481ad8",
   "metadata": {},
   "source": [
    "## 🧬 4. Héritage & polymorphisme (surcharge)"
   ]
  },
  {
   "cell_type": "markdown",
   "id": "3c365827",
   "metadata": {},
   "source": [
    "Une classe peut **hériter** d'une autre : elle récupère ses attributs et méthodes.  \n",
    "La classe fille peut **redéfinir** une méthode de la classe mère : c’est la **surcharge (overrride)**.\n",
    "\\\n",
    "\\\n",
    "\\\n",
    "📌 Syntaxe de base :\n",
    "```python\n",
    "class Fille(Mere):"
   ]
  },
  {
   "cell_type": "code",
   "execution_count": 20,
   "id": "2d4cb341",
   "metadata": {},
   "outputs": [
    {
     "name": "stdout",
     "output_type": "stream",
     "text": [
      "Rex\n",
      "8\n",
      "Ouaf Ouaf !\n",
      "Minou\n",
      "3\n",
      "Miaou !\n"
     ]
    }
   ],
   "source": [
    "# La classe Animal est la classe mère\n",
    "class Animal:\n",
    "    def __init__(self, name: str, age: int):\n",
    "        self.name = name\n",
    "        self.age = age\n",
    "\n",
    "    def make_sound(self):\n",
    "        print(\"Cet animal fait un bruit.\")\n",
    "\n",
    "# La classe Dog hérite des méthodes et attibuts de la classe mère Animal\n",
    "class Dog(Animal):\n",
    "    # Surcharge / rédéfinition de la méthode make_sound : aboiement\n",
    "    def make_sound(self):\n",
    "        print(\"Ouaf Ouaf !\")\n",
    "\n",
    "# La classe Dog hérite des méthodes et attibuts de la classe mère Animal\n",
    "class Cat(Animal):\n",
    "    # Surcharge / rédéfinition de la méthode make_sound : miaulement\n",
    "    def make_sound(self):\n",
    "        print(\"Miaou !\")\n",
    "\n",
    "my_dog = Dog(name=\"Rex\", age=8)\n",
    "print(my_dog.name)\n",
    "print(my_dog.age)\n",
    "my_dog.make_sound()\n",
    "\n",
    "my_cat = Cat(name=\"Minou\", age=3)\n",
    "print(my_cat.name)\n",
    "print(my_cat.age)\n",
    "my_cat.make_sound()"
   ]
  },
  {
   "cell_type": "markdown",
   "id": "b4499cb9",
   "metadata": {},
   "source": [
    "___"
   ]
  },
  {
   "cell_type": "markdown",
   "id": "3e083bd5",
   "metadata": {},
   "source": [
    "## 🎯 5. Mini-projet : Gestion d'une bibliothèque\n",
    "\n",
    "Vous développez une application de gestion de documents pour une bibliothèque. Cette bibliothèque peut contenir plusieurs types de documents : des livres et des magazines.\n",
    "\\\n",
    "\\\n",
    "\\\n",
    "Voici quelques contraintes techniques : \n",
    "\\\n",
    "\\\n",
    "\\\n",
    "🔸 Classe `Document` *(classe mère)*\n",
    "\n",
    "Attributs :\n",
    "- `id` *(identifiant du document ex : code barre)*   \n",
    "- `title` *(titre du cocument)*\n",
    "- `author` *(auteur du document)*\n",
    "- `available` *(disponibilité du document)*\n",
    "\n",
    "Méthodes :\n",
    "- `display_info` *(pour afficher les infos du document)*  \n",
    "\n",
    "\\\n",
    "\\\n",
    "🔹 Classe `Book` *(hérite de Document)*\n",
    "\n",
    "Attributs spécifiques :\n",
    "- `pages` *(nombre de page du live)*\n",
    "\n",
    "Méthodes spécifiques (surcharge) :\n",
    "- `display_info` *(pour afficher les infos du livre avec son nombre de pages)*  \n",
    "\n",
    "\\\n",
    "\\\n",
    "🔹 Classe `Magazine` *(hérite de Document)*\n",
    "\n",
    "Attributs spécifiques :\n",
    "- `issue_number` *(numéro du magazine)*\n",
    "- `display_info` *(pour afficher les infos du magazine avec son numéro)*  \n",
    "\n",
    "\\\n",
    "\\\n",
    "📘 Classe `Library`\n",
    "\n",
    "Attributs :\n",
    "- `name` *(le nom de la bibliothèque)*\n",
    "- `documents` *(liste des documents possédés par la bibliothèque)*\n",
    "\n",
    "Méthodes :\n",
    "- `add` *(pour ajouter un document)*\n",
    "- `display` *(pour afficher tous les documents avec leurs infos)*\n",
    "- `find_by_id` *(pour retrouve un document par son identifiant)*\n",
    "- `borrow` *(pour emprunter un document)*\n",
    "- `give_back` *(pour rendre un document)*\n",
    "\n",
    "\\\n",
    "\\\n",
    "🧧 BONUS : stocker les livres dans un fichier et les charger au démarrage."
   ]
  },
  {
   "cell_type": "markdown",
   "id": "6ec5e3fc",
   "metadata": {},
   "source": [
    "___"
   ]
  },
  {
   "cell_type": "markdown",
   "id": "479e337f",
   "metadata": {},
   "source": [
    "🎉 Félicitations ! Vous avez découvert les bases de la Programmation Orientée Objet.  \n",
    "Vous pouvez maintenant structurer vos programmes avec des objets pour mieux modéliser vos projets futurs (API, IA, jeux...)."
   ]
  }
 ],
 "metadata": {
  "kernelspec": {
   "display_name": ".venv",
   "language": "python",
   "name": "python3"
  },
  "language_info": {
   "codemirror_mode": {
    "name": "ipython",
    "version": 3
   },
   "file_extension": ".py",
   "mimetype": "text/x-python",
   "name": "python",
   "nbconvert_exporter": "python",
   "pygments_lexer": "ipython3",
   "version": "3.13.2"
  }
 },
 "nbformat": 4,
 "nbformat_minor": 5
}
