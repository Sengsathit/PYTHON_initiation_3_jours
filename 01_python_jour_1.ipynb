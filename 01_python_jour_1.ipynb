{
 "cells": [
  {
   "cell_type": "markdown",
   "id": "01cc8f68",
   "metadata": {},
   "source": [
    "# 🐍 Introduction à Python - Jour 1"
   ]
  },
  {
   "cell_type": "markdown",
   "id": "667d95ef",
   "metadata": {},
   "source": [
    "Dans cette première journée d'initiation à Python, nous allons découvrir les **bases du langage**, sa **syntaxe**, et quelques **constructions fondamentales** comme :\n",
    "- les variables\n",
    "- les opérateurs\n",
    "- les conditions\n",
    "- les boucles"
   ]
  },
  {
   "cell_type": "markdown",
   "id": "4659aa88",
   "metadata": {},
   "source": [
    "\n",
    "____  \n",
    "  \n"
   ]
  },
  {
   "cell_type": "markdown",
   "id": "485e6675",
   "metadata": {},
   "source": [
    "## 🧠 1. Qu’est-ce qu’une variable ?"
   ]
  },
  {
   "cell_type": "markdown",
   "id": "ba79a947",
   "metadata": {},
   "source": [
    "Une **variable** est un nom qui pointe vers une valeur en mémoire. C’est un outil fondamental pour stocker, manipuler et réutiliser des informations dans un programme."
   ]
  },
  {
   "cell_type": "markdown",
   "id": "6f18878e",
   "metadata": {},
   "source": [
    "### a. Déclaration de variables simples"
   ]
  },
  {
   "cell_type": "code",
   "execution_count": null,
   "id": "97f2e2df",
   "metadata": {},
   "outputs": [],
   "source": [
    "x = 42              # entier\n",
    "name = \"Alice\"      # chaîne de caractères\n",
    "pi = 3.14           # flottant\n",
    "is_active = True    # booléen"
   ]
  },
  {
   "cell_type": "markdown",
   "id": "fef3d5a9",
   "metadata": {},
   "source": [
    "Il existe plusieurs manières d'afficher ces variables"
   ]
  },
  {
   "cell_type": "code",
   "execution_count": null,
   "id": "39be9fbc",
   "metadata": {},
   "outputs": [],
   "source": [
    "# Affichage simple\n",
    "print(x)\n",
    "print(name)\n",
    "print(pi)\n",
    "print(is_active)\n",
    "\n",
    "print(x, name, pi, is_active)"
   ]
  },
  {
   "cell_type": "code",
   "execution_count": null,
   "id": "e221345d",
   "metadata": {},
   "outputs": [],
   "source": [
    "# Affichage à l'aide d'un formatage de chaîne de caractères (str.format())\n",
    "print(\"La réponse à tout est : {}\".format(x))\n",
    "print(\"Bonjour je m'appelle {}\".format(name))\n",
    "print(\"La valeur du nombre pi est : {}\".format(pi))\n",
    "print(\"C'est actif ? : {}\".format(is_active))\n",
    "\n",
    "print(\"Toutes les valeurs : {}, {}, {}, {}\".format(x, name, pi, is_active))"
   ]
  },
  {
   "cell_type": "code",
   "execution_count": null,
   "id": "e4583268",
   "metadata": {},
   "outputs": [],
   "source": [
    "# Affichage à l'aide d'une interpolation (f-strings literals)\n",
    "print(f\"La réponse à tout est : {x}\")\n",
    "print(f\"Bonjour je m'appelle {name}\")\n",
    "print(f\"La valeur du nombre pi est : {pi}\")\n",
    "print(f\"C'est actif ? : {is_active}\")\n",
    "\n",
    "print(f\"Toutes les valeurs : {x}, {name}, {pi}, {is_active}\")"
   ]
  },
  {
   "cell_type": "markdown",
   "id": "cbb7df60",
   "metadata": {},
   "source": [
    "### b. Les constantes"
   ]
  },
  {
   "cell_type": "markdown",
   "id": "ecee0db8",
   "metadata": {},
   "source": [
    "En Python, il n’existe pas de mot-clé réservé pour déclarer une **constante** comme dans d’autres langages (par exemple const en JavaScript ou final en Java). Toutefois, il est d’usage de définir une constante en écrivant son nom en majuscules, ce qui sert d’indication aux autres développeurs que cette valeur n**e doit pas être modifiée**."
   ]
  },
  {
   "cell_type": "code",
   "execution_count": null,
   "id": "a62483ed",
   "metadata": {},
   "outputs": [],
   "source": [
    "PI = 3.14159\n",
    "MAX_USERS = 100\n",
    "API_URL = \"https://api.example.com\""
   ]
  },
  {
   "cell_type": "markdown",
   "id": "64efdc4e",
   "metadata": {},
   "source": [
    "### c. Le typage dynamique"
   ]
  },
  {
   "cell_type": "markdown",
   "id": "9ece0dec",
   "metadata": {},
   "source": [
    "En Python, on ne précise pas le type : il est **déduit automatiquement**. Cependant si nous voulons suivre les bonnes pratiques (notamment pour les projets professionnels, collaboratifs, ou nous voulons être rigoureux de manière générale), nous pouvons utiliser les annotations de type.\n",
    "\n",
    "Pourquoi utiliser les annotations ?\n",
    "\n",
    "\n",
    "- Meilleure lisibilité du code\n",
    "- Meilleure aide à l’autocomplétion et à la détection d’erreurs dans les IDE\n",
    "- Permet les vérifications statiques avec des outils comme mypy\n",
    "- Facilite la maintenance, surtout dans des projets plus grands ou en équipe"
   ]
  },
  {
   "cell_type": "code",
   "execution_count": null,
   "id": "06292b00",
   "metadata": {},
   "outputs": [],
   "source": [
    "x: int = 42\n",
    "name: str = \"Alice\"\n",
    "pi: float = 3.14\n",
    "is_active: bool = True\n",
    "\n",
    "print(type(x))\n",
    "print(type(name))\n",
    "print(type(pi))\n",
    "print(type(is_active))"
   ]
  },
  {
   "cell_type": "markdown",
   "id": "04d6fbdd",
   "metadata": {},
   "source": [
    "\n",
    "### d. Les types de base\n",
    "\n",
    "| Type        | Exemple        | Description                          |\n",
    "|-------------|----------------|--------------------------------------|\n",
    "| `int`       | `42`           | Nombre entier                        |\n",
    "| `float`     | `3.14`         | Nombre à virgule                     |\n",
    "| `str`       | `\"Bonjour\"`    | Texte                                |\n",
    "| `bool`      | `True`         | Booléen                              |"
   ]
  },
  {
   "cell_type": "markdown",
   "id": "effefaa6",
   "metadata": {},
   "source": [
    "### e. Bonnes pratiques de nommage"
   ]
  },
  {
   "cell_type": "markdown",
   "id": "4c56649b",
   "metadata": {},
   "source": [
    "- Utiliser des noms **clairs et explicites** (`age`, pas `a`)\n",
    "- Éviter les mots-clés réservés (`for`, `class`, `if`, etc.)\n",
    "- Utiliser le **snake_case** (convention Python)\n",
    "- Ne pas commencer par un chiffre (`2valeurs` ❌)\n",
    "\n",
    "De manière générale, quand on écrit du code Python, il ne s’agit pas seulement de faire en sorte qu’il fonctionne — il faut aussi qu’il soit **lisible** et **maintenable**.  \n",
    "Pour cela, Python propose des conventions de style regroupées dans un document officiel : la **PEP 8 (Python Enhancement Proposals)**.\n",
    "\n",
    "**Lien vers la PEP 8 officielle** :  \n",
    "[https://peps.python.org/pep-0008/](https://peps.python.org/pep-0008/)"
   ]
  },
  {
   "cell_type": "markdown",
   "id": "34dfec7b",
   "metadata": {},
   "source": [
    "### f. Exercice sur les variables et les types"
   ]
  },
  {
   "cell_type": "markdown",
   "id": "4fa450ed",
   "metadata": {},
   "source": [
    "🧩 Créez un script qui demande à l'utilisateur plusieurs info personnelles puis affichez les.  \n",
    "\n",
    "Astuce : pour demander à l'utilisateur de saisir des données vous pouvez utiliser la fonction `input()`."
   ]
  },
  {
   "cell_type": "code",
   "execution_count": null,
   "id": "f564b1ae",
   "metadata": {},
   "outputs": [],
   "source": [
    "# Votre code ici"
   ]
  },
  {
   "cell_type": "markdown",
   "id": "e0efc812",
   "metadata": {},
   "source": [
    "\n",
    "____  \n",
    "  \n"
   ]
  },
  {
   "cell_type": "markdown",
   "id": "830302ad",
   "metadata": {},
   "source": [
    "## 🧮 2. Opérateurs"
   ]
  },
  {
   "cell_type": "markdown",
   "id": "9db2985e",
   "metadata": {},
   "source": [
    "Les opérateurs permettent de manipuler des données dans les expressions. En Python, il en existe plusieurs catégories."
   ]
  },
  {
   "cell_type": "markdown",
   "id": "8542553f",
   "metadata": {},
   "source": [
    "### a. Les opérateurs arithmétiques"
   ]
  },
  {
   "cell_type": "markdown",
   "id": "771dd070",
   "metadata": {},
   "source": [
    "| Opérateur | Nom            | Exemple       | Résultat |\n",
    "|----------:|----------------|---------------|----------|\n",
    "| `+`       | Addition        | `3 + 2`       | `5`      |\n",
    "| `-`       | Soustraction    | `5 - 1`       | `4`      |\n",
    "| `*`       | Multiplication  | `4 * 3`       | `12`     |\n",
    "| `/`       | Division réelle | `10 / 4`      | `2.5`    |\n",
    "| `//`      | Division entière| `10 // 4`     | `2`      |\n",
    "| `%`       | Modulo          | `10 % 4`      | `2`      |\n",
    "| `**`      | Puissance       | `2 ** 3`      | `8`      |\n",
    "\n",
    "Ces opérateurs permettent de faire des calculs mathématiques, gérer des boucles, ou manipuler des données numériques."
   ]
  },
  {
   "cell_type": "code",
   "execution_count": null,
   "id": "f55a09a1",
   "metadata": {},
   "outputs": [],
   "source": [
    "a = 7\n",
    "b = 3\n",
    "\n",
    "print(\"Addition:\", a + b)\n",
    "print(\"Soustraction:\", a - b)\n",
    "print(\"Multiplication:\", a * b)\n",
    "print(\"Division:\", a / b)\n",
    "print(\"Division entière:\", a // b)\n",
    "print(\"Modulo:\", a % b)\n",
    "print(\"Puissance:\", a ** b)"
   ]
  },
  {
   "cell_type": "markdown",
   "id": "d8b3b6a5",
   "metadata": {},
   "source": [
    "### b. Les opérateurs de comparaison"
   ]
  },
  {
   "cell_type": "markdown",
   "id": "4438fbe7",
   "metadata": {},
   "source": [
    "| Opérateur | Signification            | Exemple       | Résultat |\n",
    "|----------:|----------------|---------------|----------|\n",
    "| `==`       | Égal à        | `5 == 5`       | `True`      |\n",
    "| `!=`       | Différent de    | `5 != `       | `True`      |\n",
    "| `<`       | Inférieur à  | `3 < 5`       | `True`     |\n",
    "| `>`       | Supérieur à | `5 > 3`      | `True`    |\n",
    "| `<=`      | Inférieur ou égal à| `4 <= 4`     | `True`      |\n",
    "| `>=`       | Supérieur ou égal à          | `4 >= 5`      | `False`      |\n",
    "\n",
    "Ils permettent de comparer deux valeurs et retournent un booléen (True ou False)."
   ]
  },
  {
   "cell_type": "code",
   "execution_count": null,
   "id": "04062f0e",
   "metadata": {},
   "outputs": [],
   "source": [
    "x = 10\n",
    "y = 5\n",
    "\n",
    "print(\"x est-il égal à y ?\", x == y)\n",
    "print(\"x est-il différent de y ?\", x != y)\n",
    "print(\"x est-il supérieur à y ?\", x > y)"
   ]
  },
  {
   "cell_type": "markdown",
   "id": "8cc734d4",
   "metadata": {},
   "source": [
    "### c. Les opérateurs logiques"
   ]
  },
  {
   "cell_type": "markdown",
   "id": "bb3cfe26",
   "metadata": {},
   "source": [
    "| Opérateur | Nom            | Exemple       | Résultat |\n",
    "|----------:|----------------|---------------|----------|\n",
    "| `and`       | Vrai si l'ensemble des conditions est vraie         | `True and False`       | `False`      |\n",
    "| `or`       | Vrai si au moins une des conditions est vraie    | `True or False`       | `True`      |\n",
    "| `not`       | Inverse la condition  | `not True`       | `False`     |\n",
    "\n",
    "Ils permettent de comparer deux valeurs et retournent un booléen (True ou False)."
   ]
  },
  {
   "cell_type": "code",
   "execution_count": null,
   "id": "8d14b2a6",
   "metadata": {},
   "outputs": [],
   "source": [
    "age = 25\n",
    "print(age > 18 and age < 30)  # True\n",
    "print(age < 18 or age > 65)   # False\n",
    "print(not(age < 18))          # True"
   ]
  },
  {
   "cell_type": "markdown",
   "id": "6a2e756c",
   "metadata": {},
   "source": [
    "### d. Exercices sur les opérateurs"
   ]
  },
  {
   "cell_type": "markdown",
   "id": "401f1023",
   "metadata": {},
   "source": [
    "🧩 Demandez à l’utilisateur deux nombres et affichez :\n",
    "- la somme\n",
    "- la différence\n",
    "- le produit\n",
    "- la division réelle\n",
    "- la division entière\n",
    "- le reste\n",
    "- la puissance"
   ]
  },
  {
   "cell_type": "code",
   "execution_count": null,
   "id": "f369cd50",
   "metadata": {},
   "outputs": [],
   "source": [
    "# Votre code ici"
   ]
  },
  {
   "cell_type": "markdown",
   "id": "ae5f6687",
   "metadata": {},
   "source": [
    "\\\n",
    "\\\n",
    "\\\n",
    "🧩 Demandez à l’utilisateur de saisir un nombre total de minutes.  \n",
    "Calculez et affichez :\n",
    "- le nombre d’heures entières\n",
    "- le reste en minutes\n",
    "\n",
    "Exemple : 135 minutes → 2 heures, 15 minutes"
   ]
  },
  {
   "cell_type": "code",
   "execution_count": null,
   "id": "cc6e2fd3",
   "metadata": {},
   "outputs": [],
   "source": [
    "# Votre code ici"
   ]
  },
  {
   "cell_type": "markdown",
   "id": "073f161e",
   "metadata": {},
   "source": [
    "\\\n",
    "\\\n",
    "\\\n",
    "🧩 Simulation de panier \n",
    "\n",
    "Soit :  \n",
    "\n",
    "```python\n",
    "prix_unitaire = 7.50  \n",
    "quantité = 4\n",
    "```\n",
    "\n",
    "Calculez :\n",
    "\n",
    "- le prix total\n",
    "- le prix après une réduction de 10%\n",
    "- le prix moyen par article après réduction\n"
   ]
  },
  {
   "cell_type": "code",
   "execution_count": null,
   "id": "42161d8a",
   "metadata": {},
   "outputs": [],
   "source": [
    "# Votre code ici"
   ]
  },
  {
   "cell_type": "markdown",
   "id": "bbe5fe75",
   "metadata": {},
   "source": [
    "\\\n",
    "\\\n",
    "\\\n",
    "🧩 L’utilisateur donne une valeur de rayon r.\n",
    "\n",
    "Calculez :\n",
    "\n",
    "- la circonférence du cercle\n",
    "- la surface du disque\n"
   ]
  },
  {
   "cell_type": "code",
   "execution_count": null,
   "id": "9278a1b0",
   "metadata": {},
   "outputs": [],
   "source": [
    "# Votre code ici"
   ]
  },
  {
   "cell_type": "markdown",
   "id": "89dbc506",
   "metadata": {},
   "source": [
    "\\\n",
    "\\\n",
    "\\\n",
    "🧩 Soit les variables suivantes:\n",
    "\n",
    "```python\n",
    "a = 10  \n",
    "b = 5  \n",
    "c = 2  \n",
    "```\n",
    "\n",
    "Créez 3 expressions logiques **vraies**, puis 3 **fausses**, en combinant :\n",
    "- \\>, <, ==, !=\n",
    "- and, or, not"
   ]
  },
  {
   "cell_type": "code",
   "execution_count": null,
   "id": "c719cfc6",
   "metadata": {},
   "outputs": [],
   "source": [
    "# Votre code ici"
   ]
  },
  {
   "cell_type": "markdown",
   "id": "f2789041",
   "metadata": {},
   "source": [
    "\\\n",
    "\\\n",
    "\\\n",
    "🧩 Quiz de logique “à trous”\n",
    "\n",
    "Complétez les expressions pour que leur résultat soit True :\n",
    "\n",
    "```python\n",
    "a = 8  \n",
    "b = 12  \n",
    "\n",
    "print((a > 5) ___ (b < 20))  \n",
    "print((a == 8) ___ (b == 10))  \n",
    "print(___ (a < b))  \n",
    "print(not (a ___ b))  "
   ]
  },
  {
   "cell_type": "code",
   "execution_count": null,
   "id": "073c2360",
   "metadata": {},
   "outputs": [],
   "source": [
    "# Votre code ici"
   ]
  },
  {
   "cell_type": "markdown",
   "id": "76e6ecfb",
   "metadata": {},
   "source": [
    "\n",
    "____  \n",
    "  \n"
   ]
  },
  {
   "cell_type": "markdown",
   "id": "c420800e",
   "metadata": {},
   "source": [
    "## 🔀 3. Conditions"
   ]
  },
  {
   "cell_type": "markdown",
   "id": "21c8b190",
   "metadata": {},
   "source": [
    "En Python, les **structures conditionnelles** permettent d'exécuter différentes parties du code selon que certaines conditions soient remplies ou non."
   ]
  },
  {
   "cell_type": "markdown",
   "id": "f06b6b21",
   "metadata": {},
   "source": [
    "### a. if / elif / else  "
   ]
  },
  {
   "cell_type": "markdown",
   "id": "2c6e4179",
   "metadata": {},
   "source": [
    "\n",
    "📌 Syntaxe de base :\n",
    "\n",
    "```python\n",
    "if condition:\n",
    "    # Bloc exécuté si la condition est vraie\n",
    "elif autre_condition:\n",
    "    # Bloc exécuté si la condition précédente est fausse mais celle-ci est vraie\n",
    "else:\n",
    "    # Bloc exécuté si aucune des conditions n’est vraie"
   ]
  },
  {
   "cell_type": "code",
   "execution_count": null,
   "id": "dbc5d14b",
   "metadata": {},
   "outputs": [],
   "source": [
    "age = 25\n",
    "\n",
    "if age >= 18:\n",
    "    print(\"Vous êtes majeur.\")\n",
    "elif age >= 13:\n",
    "    print(\"Vous êtes adolescent.\")\n",
    "else:\n",
    "    print(\"Vous êtes enfant.\")"
   ]
  },
  {
   "cell_type": "markdown",
   "id": "e8d32f0c",
   "metadata": {},
   "source": [
    "Il est possible de combiner plusieurs conditions avec :\n",
    "- and : toutes les conditions doivent être vraies\n",
    "- or : au moins une doit être vraie\n",
    "- not : inverse la condition"
   ]
  },
  {
   "cell_type": "code",
   "execution_count": null,
   "id": "c7aba067",
   "metadata": {},
   "outputs": [],
   "source": [
    "age = 22\n",
    "is_member = True\n",
    "\n",
    "if age > 18 and is_member:\n",
    "    print(\"Bienvenue au club.\")"
   ]
  },
  {
   "cell_type": "markdown",
   "id": "e38f6d4d",
   "metadata": {},
   "source": [
    "### b. Ternaire  "
   ]
  },
  {
   "cell_type": "markdown",
   "id": "20ee21a7",
   "metadata": {},
   "source": [
    "Python dispose d’un **opérateur ternaire** mais il ne ressemble pas à celui qu’on retrouve dans d’autres langages comme JavaScript ou C (condition ? valeur_si_vrai : valeur_si_faux).\n",
    "\\\n",
    "\\\n",
    "\\\n",
    "📌 Syntaxe de base :\n",
    "```python\n",
    "valeur_si_vrai if condition else valeur_si_faux"
   ]
  },
  {
   "cell_type": "code",
   "execution_count": null,
   "id": "1b26e7d5",
   "metadata": {},
   "outputs": [],
   "source": [
    "age = 20\n",
    "status = \"majeur\" if age >= 18 else \"mineur\"\n",
    "print(status)  # ➜ \"majeur\""
   ]
  },
  {
   "cell_type": "markdown",
   "id": "42b0a96c",
   "metadata": {},
   "source": [
    "### c. match / case"
   ]
  },
  {
   "cell_type": "markdown",
   "id": "a9554bfb",
   "metadata": {},
   "source": [
    "Lorsqu'il existe plus de 3 cas de figure il est possible d'utiliser le `match` / `case`.  \n",
    "⚠️ Attention : fonctionne uniquement à partir de **Python 3.10**."
   ]
  },
  {
   "cell_type": "code",
   "execution_count": null,
   "id": "dcedb0f4",
   "metadata": {},
   "outputs": [],
   "source": [
    "choice = 2\n",
    "\n",
    "match choice:\n",
    "    case 1:\n",
    "        print(\"Café\")\n",
    "    case 2:\n",
    "        print(\"Thé\")\n",
    "    case 3:\n",
    "        print(\"Chocolat\")\n",
    "    case 4:\n",
    "        print(\"Potage\")\n",
    "    case _:\n",
    "        print(\"Autre boisson\")"
   ]
  },
  {
   "cell_type": "markdown",
   "id": "5702c668",
   "metadata": {},
   "source": [
    "### d. Exercices sur les conditions"
   ]
  },
  {
   "cell_type": "markdown",
   "id": "96d67ddf",
   "metadata": {},
   "source": [
    "🧩 Demandez un nombre à l’utilisateur et affichez s’il est **pair** ou **impair**."
   ]
  },
  {
   "cell_type": "code",
   "execution_count": null,
   "id": "56967d9c",
   "metadata": {},
   "outputs": [],
   "source": [
    "# Votre code ici"
   ]
  },
  {
   "cell_type": "markdown",
   "id": "248a9d9e",
   "metadata": {},
   "source": [
    "\\\n",
    "\\\n",
    "\\\n",
    "🧩 Demandez l'âge de l'utilisateur, puis affichez sa catégorie d'âge : \n",
    "- Moins de 13 : Enfant\n",
    "- Entre 13 et 17 : Adolescent\n",
    "- Entre 18 et 64 : Adulte\n",
    "- 65 ou plus : Senior"
   ]
  },
  {
   "cell_type": "code",
   "execution_count": null,
   "id": "28a6f282",
   "metadata": {},
   "outputs": [],
   "source": [
    "# Votre code ici"
   ]
  },
  {
   "cell_type": "markdown",
   "id": "894e3162",
   "metadata": {},
   "source": [
    "\\\n",
    "\\\n",
    "\\\n",
    "🧩 Créez un système qui demande un identifiant et un mot de passe :\n",
    "- Si les deux sont corrects (admin / python123), affichez \"Connexion réussie\"\n",
    "- Sinon, affichez \"Échec de la connexion\""
   ]
  },
  {
   "cell_type": "code",
   "execution_count": null,
   "id": "554a1353",
   "metadata": {},
   "outputs": [],
   "source": [
    "# 🔐 Identifiants à valider : admin / python123\n",
    "# Votre code ici"
   ]
  },
  {
   "cell_type": "markdown",
   "id": "c9ada31c",
   "metadata": {},
   "source": [
    "\\\n",
    "\\\n",
    "\\\n",
    "🧩 Calculatrice simple\n",
    "\n",
    "Demandez à l'utilisateur deux nombres et une opération (+, -, *, /). Affichez le résultat correspondant."
   ]
  },
  {
   "cell_type": "code",
   "execution_count": null,
   "id": "1ac53f86",
   "metadata": {},
   "outputs": [],
   "source": [
    "# Votre code ici"
   ]
  },
  {
   "cell_type": "markdown",
   "id": "f8b7ecb5",
   "metadata": {},
   "source": [
    "\n",
    "____  \n",
    "  \n"
   ]
  },
  {
   "cell_type": "markdown",
   "id": "e6a7f2ee",
   "metadata": {},
   "source": [
    "## 🔁 4. Boucles"
   ]
  },
  {
   "cell_type": "markdown",
   "id": "f8c6ca38",
   "metadata": {},
   "source": [
    "Les boucles permettent d’exécuter plusieurs fois une ou plusieurs instructions, sans avoir à les répéter manuellement.  \n",
    "\n",
    "Par exemple, si tu veux afficher \"Hello\" 5 fois :"
   ]
  },
  {
   "cell_type": "code",
   "execution_count": null,
   "id": "e516c574",
   "metadata": {},
   "outputs": [],
   "source": [
    "print(\"Hello\")\n",
    "print(\"Hello\")\n",
    "print(\"Hello\")\n",
    "print(\"Hello\")\n",
    "print(\"Hello\")"
   ]
  },
  {
   "cell_type": "markdown",
   "id": "ab35b308",
   "metadata": {},
   "source": [
    "Pas très pratique.  \n",
    "Avec une boucle, c’est plus propre :"
   ]
  },
  {
   "cell_type": "code",
   "execution_count": null,
   "id": "d257d9ff",
   "metadata": {},
   "outputs": [],
   "source": [
    "for i in range(5):\n",
    "    print(\"Hello\")"
   ]
  },
  {
   "cell_type": "markdown",
   "id": "2e711ee5",
   "metadata": {},
   "source": [
    "### a. La boucle for"
   ]
  },
  {
   "cell_type": "markdown",
   "id": "19437526",
   "metadata": {},
   "source": [
    "📌 Syntaxe de base :\n",
    "\n",
    "```python\n",
    "for variable in objet_itérable:\n",
    "    instructions\n",
    "```"
   ]
  },
  {
   "cell_type": "code",
   "execution_count": null,
   "id": "6001e85d",
   "metadata": {},
   "outputs": [],
   "source": [
    "# Afficher les chiffres de 0 à 4\n",
    "# Ici range(5) génère les nombres 0, 1, 2, 3, 4 (⚠️ exclus le 5)\n",
    "for i in range(5):\n",
    "    print(\"i vaut :\", i)"
   ]
  },
  {
   "cell_type": "markdown",
   "id": "1e1d7c65",
   "metadata": {},
   "source": [
    "### b. La boucle while"
   ]
  },
  {
   "cell_type": "markdown",
   "id": "8d4008f3",
   "metadata": {},
   "source": [
    "La boucle while répète un bloc tant qu’une condition est vraie.  \n",
    "\\\n",
    "\\\n",
    "\\\n",
    "📌 Syntaxe de base :\n",
    "\n",
    "```python\n",
    "while condition:\n",
    "    instructions\n",
    "```\n",
    "\n",
    "⚠️ Attention aux `boucles infinies`. Assurez-vous de toujours avoir une **condition d'arrêt**."
   ]
  },
  {
   "cell_type": "code",
   "execution_count": null,
   "id": "fd3330e2",
   "metadata": {},
   "outputs": [],
   "source": [
    "# Afficher \"Bonjour\" 3 fois\n",
    "counter = 0\n",
    "while counter < 3:\n",
    "    print(\"Bonjour\")\n",
    "    counter += 1 "
   ]
  },
  {
   "cell_type": "markdown",
   "id": "a2a39da5",
   "metadata": {},
   "source": [
    "### c. Arrêter ou poursuivre la boucle avec break et continue"
   ]
  },
  {
   "cell_type": "markdown",
   "id": "7a8c8aee",
   "metadata": {},
   "source": [
    "Avec `break` nous arrêtons complètement la boucle."
   ]
  },
  {
   "cell_type": "code",
   "execution_count": null,
   "id": "59811157",
   "metadata": {},
   "outputs": [],
   "source": [
    "for i in range(10):\n",
    "    if i == 5:\n",
    "        break  # on quitte la boucle\n",
    "    print(i)"
   ]
  },
  {
   "cell_type": "markdown",
   "id": "54d77dd3",
   "metadata": {},
   "source": [
    "Avec `continue` nous sautons ce tour et passons au suivant."
   ]
  },
  {
   "cell_type": "code",
   "execution_count": null,
   "id": "8d26d08e",
   "metadata": {},
   "outputs": [],
   "source": [
    "for i in range(6):\n",
    "    if i % 2 == 0:\n",
    "        continue  # saute les nombres pairs\n",
    "    print(i)"
   ]
  },
  {
   "cell_type": "markdown",
   "id": "929bc531",
   "metadata": {},
   "source": [
    "### d. Exercices sur les boucles"
   ]
  },
  {
   "cell_type": "markdown",
   "id": "16cce599",
   "metadata": {},
   "source": [
    "🧩 **Table de multiplication**\n",
    "\n",
    "Demandez à l’utilisateur un **nombre entier** et affichez sa table de multiplication jusqu’à 10 (utiliser une boucle for).  "
   ]
  },
  {
   "cell_type": "code",
   "execution_count": null,
   "id": "84bf1e6e",
   "metadata": {},
   "outputs": [],
   "source": [
    "# Exemple attendu\n",
    "# Entrée : 3\n",
    "# Sortie :\n",
    "# 3 x 1 = 3\n",
    "# 3 x 2 = 6\n",
    "# ...\n",
    "\n",
    "# Votre code ici"
   ]
  },
  {
   "cell_type": "markdown",
   "id": "bcf3f64c",
   "metadata": {},
   "source": [
    "\\\n",
    "\\\n",
    "\\\n",
    "🧩 **Devine le nombre**\n",
    "\n",
    "Écrivez un petit jeu :\n",
    "\n",
    "- Le programme choisit un nombre entre 1 et 10\n",
    "- L’utilisateur doit deviner\n",
    "- Le programme donne des indications : \"Trop grand\", \"Trop petit\", jusqu’à trouver le bon"
   ]
  },
  {
   "cell_type": "code",
   "execution_count": null,
   "id": "b998fb90",
   "metadata": {},
   "outputs": [],
   "source": [
    "# Votre code ici"
   ]
  },
  {
   "cell_type": "markdown",
   "id": "03761af8",
   "metadata": {},
   "source": [
    "\\\n",
    "\\\n",
    "\\\n",
    "🧩 **Le convertisseur de température**\n",
    "\n",
    "Demandez une température en °C et convertissez-la en °F :\n",
    "\n",
    "- Formule : F = C * 9/5 + 32\n",
    "- Affichez le résultat avec print()\n",
    "\n",
    "Bonus : recommencer tant que l’utilisateur tape \"oui\"\n"
   ]
  },
  {
   "cell_type": "code",
   "execution_count": null,
   "id": "e0bfe026",
   "metadata": {},
   "outputs": [],
   "source": [
    "# Votre code ici"
   ]
  },
  {
   "cell_type": "markdown",
   "id": "e545fd8d",
   "metadata": {},
   "source": [
    "\n",
    "____  \n",
    "  \n"
   ]
  },
  {
   "cell_type": "markdown",
   "id": "059efef8",
   "metadata": {},
   "source": [
    "👏 Félicitations ! Vous avez vu les bases de Python.  \n",
    "Prochaine étape : les `fonctions`, les `structures de données` et les `fichiers` !"
   ]
  }
 ],
 "metadata": {
  "kernelspec": {
   "display_name": ".venv",
   "language": "python",
   "name": "python3"
  },
  "language_info": {
   "codemirror_mode": {
    "name": "ipython",
    "version": 3
   },
   "file_extension": ".py",
   "mimetype": "text/x-python",
   "name": "python",
   "nbconvert_exporter": "python",
   "pygments_lexer": "ipython3",
   "version": "3.13.2"
  }
 },
 "nbformat": 4,
 "nbformat_minor": 5
}
