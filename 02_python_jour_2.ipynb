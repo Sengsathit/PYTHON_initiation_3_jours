{
 "cells": [
  {
   "cell_type": "markdown",
   "id": "39f2d56d",
   "metadata": {},
   "source": [
    "# 🐍 Introduction à Python - Jour 2"
   ]
  },
  {
   "cell_type": "markdown",
   "id": "f461f4c4",
   "metadata": {},
   "source": [
    "Dans ce deuxième jour nous allons apprendre :  \n",
    "- à structurer notre code avec des **fonctions**\n",
    "- à manipuler des **structures de données** comme les **listes** et les **dictionnaires**\n",
    "- à **lire/écrire dans des fichiers**."
   ]
  },
  {
   "cell_type": "markdown",
   "id": "d04762e5",
   "metadata": {},
   "source": [
    "\n",
    "____  \n",
    "  \n"
   ]
  },
  {
   "cell_type": "markdown",
   "id": "6f59f042",
   "metadata": {},
   "source": [
    "## 🧱 1. Fonctions personnalisées"
   ]
  },
  {
   "cell_type": "markdown",
   "id": "1beef0af",
   "metadata": {},
   "source": [
    "Une fonction est un **bloc de code réutilisable** qui permet de réaliser une tâche spécifique.  \n",
    "\n",
    "Pourquoi utiliser des fonctions ?\n",
    "- Pour **éviter les répétitions**\n",
    "- Pour **structurer** son code\n",
    "- Pour **faciliter les tests**\n",
    "- Pour **réutiliser** du code dans plusieurs contextes  "
   ]
  },
  {
   "cell_type": "markdown",
   "id": "45972344",
   "metadata": {},
   "source": [
    "### a. Fonction sans valeur de retour"
   ]
  },
  {
   "cell_type": "markdown",
   "id": "463e4c95",
   "metadata": {},
   "source": [
    "Une fonction **sans `return`** exécute des instructions mais ne renvoie rien (elle retourne `None` par défaut)."
   ]
  },
  {
   "cell_type": "code",
   "execution_count": null,
   "id": "5cd6b39f",
   "metadata": {},
   "outputs": [],
   "source": [
    "# Fonction sans paramètres\n",
    "def say_hello():\n",
    "    print(f\"Bonjour !\")\n",
    "\n",
    "returned_value = say_hello()\n",
    "print(returned_value)"
   ]
  },
  {
   "cell_type": "markdown",
   "id": "3bb2c6ae",
   "metadata": {},
   "source": [
    "### b. Fonction avec paramètres"
   ]
  },
  {
   "cell_type": "code",
   "execution_count": null,
   "id": "27ff79dc",
   "metadata": {},
   "outputs": [],
   "source": [
    "# Les paramètres sont les noms utilisés lors de la définition de la fonction. \n",
    "def say_hello(nom: str):\n",
    "    print(f\"Bonjour {nom} !\")\n",
    "\n",
    "# Les arguments sont les valeurs que vous passez à la fonction lorsque vous l’appelez.\n",
    "say_hello(nom=\"Alice\")\n",
    "say_hello(nom=\"Zo\")"
   ]
  },
  {
   "cell_type": "markdown",
   "id": "cdfe4894",
   "metadata": {},
   "source": [
    "### c. Fonction avec valeur de retour"
   ]
  },
  {
   "cell_type": "markdown",
   "id": "05e3085f",
   "metadata": {},
   "source": [
    "Une fonction peut **renvoyer un résultat** avec le mot-clé `return`.  \n",
    "C’est utile pour stocker le résultat d’un calcul ou d’une opération."
   ]
  },
  {
   "cell_type": "code",
   "execution_count": null,
   "id": "3265c310",
   "metadata": {},
   "outputs": [],
   "source": [
    "def add(a: int, b: int) -> int:\n",
    "    return a + b\n",
    "\n",
    "result = add(a=3, b=4)\n",
    "print(result)"
   ]
  },
  {
   "cell_type": "markdown",
   "id": "903dd4d3",
   "metadata": {},
   "source": [
    "### d. Bonnes pratiques pour écrire une fonction Python\n",
    "\n",
    "Une fonction doit faire **une seule chose**  \n",
    "- Elle doit avoir une responsabilité unique.\n",
    "- Cela rend le code plus facile à tester, maintenir et réutiliser.\n",
    "\n",
    "Le nom doit être **clair et explicite**\n",
    "- Il doit refléter précisément l’action de la fonction.\n",
    "- Exemples : `convert_temperature`, `calculate_average`, `send_email`.\n",
    "\n",
    "Utiliser une **docstring**\n",
    "- Explique brièvement ce que fait la fonction, ses paramètres et sa valeur de retour.\n",
    "- Suivre les recommandations de la [PEP 257](https://peps.python.org/pep-0257/).\n",
    "\n",
    "Spécifier les **types (type hints)**\n",
    "- Améliore la lisibilité et facilite la détection d’erreurs.\n",
    "- Suivre la [PEP 484](https://peps.python.org/pep-0484/) (type hints).\n",
    "- Peut être complété par :\n",
    "  - [PEP 563](https://peps.python.org/pep-0563/) (évaluation différée des annotations)\n",
    "  - [PEP 604](https://peps.python.org/pep-0604/) (`int | None` syntaxe moderne)\n",
    "\n",
    "**Exemple :** \n",
    "```python\n",
    "def twice(x: float) -> float:\n",
    "    \"\"\"Multiplie une valeur par 2 et retourne le résultat.\"\"\"\n",
    "    return x * 2"
   ]
  },
  {
   "cell_type": "markdown",
   "id": "daac3be8",
   "metadata": {},
   "source": [
    "### e. Exercices sur les fonctions"
   ]
  },
  {
   "cell_type": "markdown",
   "id": "bfe958ac",
   "metadata": {},
   "source": [
    "🧩 Créez une fonction `display_odd(start: int, end: int)` qui affiche tous les nombres pairs entre `start` et `end` (inclus). \n",
    "\n",
    "💡 Utilisez une boucle for et l’opérateur modulo."
   ]
  },
  {
   "cell_type": "code",
   "execution_count": null,
   "id": "85b5149f",
   "metadata": {},
   "outputs": [],
   "source": [
    "# Votre code ici"
   ]
  },
  {
   "cell_type": "markdown",
   "id": "08d20d00",
   "metadata": {},
   "source": [
    "\\\n",
    "\\\n",
    "\\\n",
    "🧩 Créez une fonction `longest_word(sentence: str)` qui retourne le mot le plus long d’une phrase saisie.\n",
    "\n",
    "💡 Pensez à .split() et à len()."
   ]
  },
  {
   "cell_type": "code",
   "execution_count": null,
   "id": "d83cdb55",
   "metadata": {},
   "outputs": [],
   "source": [
    "# Votre code ici"
   ]
  },
  {
   "cell_type": "markdown",
   "id": "25818e26",
   "metadata": {},
   "source": [
    "\\\n",
    "\\\n",
    "\\\n",
    "🧩 Créez une fonction `count_vowels(text: str)` qui compte le nombre de voyelles (a, e, i, o, u, y) dans un texte."
   ]
  },
  {
   "cell_type": "code",
   "execution_count": null,
   "id": "5726206b",
   "metadata": {},
   "outputs": [],
   "source": [
    "# Votre code ici"
   ]
  },
  {
   "cell_type": "markdown",
   "id": "53e2d5d5",
   "metadata": {},
   "source": [
    "\\\n",
    "\\\n",
    "\\\n",
    "🧩 Créez un petit menu interactif dans une fonction principale menu() qui permet à l’utilisateur de :  \n",
    "- Taper 1 pour convertir une température  \n",
    "- Taper 2 pour afficher les mots les plus longs dans une phrase  \n",
    "- Taper 3 pour quitter  \n",
    "\n",
    "Chaque option appelle une fonction spécifique."
   ]
  },
  {
   "cell_type": "code",
   "execution_count": null,
   "id": "fd98de59",
   "metadata": {},
   "outputs": [],
   "source": [
    "# Votre code ici"
   ]
  },
  {
   "cell_type": "markdown",
   "id": "d3122626",
   "metadata": {},
   "source": [
    "\n",
    "____  \n",
    "  \n"
   ]
  },
  {
   "cell_type": "markdown",
   "id": "d93f0a26",
   "metadata": {},
   "source": [
    "## 📋 2. Listes"
   ]
  },
  {
   "cell_type": "markdown",
   "id": "dea08b94",
   "metadata": {},
   "source": [
    "Les listes sont des **collections ordonnées**, **modifiables** et **hétérogènes** d’objets en Python.\n",
    "\n",
    "Elles permettent de regrouper plusieurs valeurs dans une seule variable.\n",
    "\\\n",
    "\\\n",
    "\\\n",
    "📌 Syntaxe de base :\n",
    "```python\n",
    "ma_liste = [valeur1, valeur2, valeur3]"
   ]
  },
  {
   "cell_type": "code",
   "execution_count": null,
   "id": "ec12518a",
   "metadata": {},
   "outputs": [],
   "source": [
    "fruits = [\"pomme\", \"banane\", \"cerise\"]\n",
    "print(fruits)\n",
    "print(fruits[1])  # accès par index\n",
    "\n",
    "fruits.append(\"orange\")\n",
    "print(fruits)\n",
    "\n",
    "for fruit in fruits:\n",
    "    print(fruit)"
   ]
  },
  {
   "cell_type": "markdown",
   "id": "a7699f7f",
   "metadata": {},
   "source": [
    "### a. Accéder aux éléments d'une liste"
   ]
  },
  {
   "cell_type": "markdown",
   "id": "de606ea3",
   "metadata": {},
   "source": [
    "On peut y accéder par indice, les modifier, les parcourir, les trier, etc."
   ]
  },
  {
   "cell_type": "code",
   "execution_count": null,
   "id": "2351c07f",
   "metadata": {},
   "outputs": [],
   "source": [
    "fruits = [\"pomme\", \"banane\", \"cerise\"]\n",
    "\n",
    "# Accès aux éléments\n",
    "print(fruits[0])  # Premier élément\n",
    "print(fruits[-1])  # Dernier élément\n",
    "\n",
    "# Modification\n",
    "fruits[1] = \"kiwi\"\n",
    "print(fruits)"
   ]
  },
  {
   "cell_type": "markdown",
   "id": "a301b2e0",
   "metadata": {},
   "source": [
    "### b. Manipulations classiques des listes"
   ]
  },
  {
   "cell_type": "markdown",
   "id": "397e8a99",
   "metadata": {},
   "source": [
    "- `.append(valeur)` → ajoute à la fin\n",
    "- `.insert(index, valeur)` → insère à une position\n",
    "- `.remove(valeur)` → supprime la première occurrence\n",
    "- `.pop([index])` → supprime et retourne l’élément à l’index\n",
    "- `.sort()` → trie la liste (croissant)\n",
    "- `.reverse()` → inverse l’ordre\n",
    "- `.count(valeur)` → compte le nombre d'occurrences\n",
    "- `.index(valeur)` → donne la position"
   ]
  },
  {
   "cell_type": "code",
   "execution_count": null,
   "id": "a2800ad6",
   "metadata": {},
   "outputs": [],
   "source": [
    "nombres = [3, 1, 4, 1, 5]\n",
    "\n",
    "nombres.append(9)\n",
    "nombres.insert(2, 100)\n",
    "print(\"Ajouts :\", nombres)\n",
    "\n",
    "nombres.remove(1)\n",
    "print(\"Après suppression :\", nombres)\n",
    "\n",
    "val = nombres.pop()\n",
    "print(\"Dernier retiré :\", val)\n",
    "\n",
    "nombres.sort()\n",
    "print(\"Trié :\", nombres)\n",
    "\n",
    "nombres.reverse()\n",
    "print(\"Inversé :\", nombres)"
   ]
  },
  {
   "cell_type": "markdown",
   "id": "01f58688",
   "metadata": {},
   "source": [
    "### c. Parcours de liste"
   ]
  },
  {
   "cell_type": "markdown",
   "id": "d5b22fd3",
   "metadata": {},
   "source": [
    "C’est une opération très fréquente, par exemple pour afficher chaque élément ou effectuer un traitement."
   ]
  },
  {
   "cell_type": "code",
   "execution_count": null,
   "id": "8c99321e",
   "metadata": {},
   "outputs": [],
   "source": [
    "animaux = [\"chat\", \"chien\", \"lapin\"]\n",
    "\n",
    "# Boucle simple\n",
    "for animal in animaux:\n",
    "    print(animal)\n",
    "\n",
    "# Avec index\n",
    "for i in range(len(animaux)):\n",
    "    print(f\"{i} : {animaux[i]}\")"
   ]
  },
  {
   "cell_type": "markdown",
   "id": "06ba0e4d",
   "metadata": {},
   "source": [
    "### d. Listes imbriquées"
   ]
  },
  {
   "cell_type": "markdown",
   "id": "9c3516eb",
   "metadata": {},
   "source": [
    "On peut avoir des listes **à l’intérieur de listes** : très utile pour des tableaux, matrices ou bases de données simples."
   ]
  },
  {
   "cell_type": "code",
   "execution_count": null,
   "id": "decc6f65",
   "metadata": {},
   "outputs": [],
   "source": [
    "matrice = [\n",
    "    [1, 2, 3],\n",
    "    [4, 5, 6],\n",
    "    [7, 8, 9]\n",
    "]\n",
    "\n",
    "print(matrice[0])       # Première ligne\n",
    "print(matrice[1][2])    # Ligne 2, colonne 3 : élément 6"
   ]
  },
  {
   "cell_type": "markdown",
   "id": "4a4aec98",
   "metadata": {},
   "source": [
    "### e. ⚡️ Listes en compréhension"
   ]
  },
  {
   "cell_type": "markdown",
   "id": "0817d8b3",
   "metadata": {},
   "source": [
    "Une **liste en compréhension** permet de créer une nouvelle liste **à partir d’une autre**, en appliquant une **transformation** ou un **filtrage**, de manière très concise.\n",
    "\\\n",
    "\\\n",
    "\\\n",
    "📌 Syntaxe de base :\n",
    "```python\n",
    "nouvelle_liste = [expression for élément in iterable if condition]"
   ]
  },
  {
   "cell_type": "code",
   "execution_count": null,
   "id": "78da6b49",
   "metadata": {},
   "outputs": [],
   "source": [
    "# Création d'une liste de carrés\n",
    "carres = [x**2 for x in range(10)]\n",
    "print(carres)\n",
    "\n",
    "# Extraire les voyelles d'une phrase\n",
    "phrase = \"Python est magique\"\n",
    "voyelles = [c for c in phrase if c.lower() in \"aeiouy\"]\n",
    "print(voyelles)"
   ]
  },
  {
   "cell_type": "markdown",
   "id": "0a44c208",
   "metadata": {},
   "source": [
    "On peut ajouter une condition à la fin pour **filtrer** les éléments."
   ]
  },
  {
   "cell_type": "code",
   "execution_count": null,
   "id": "12cba40d",
   "metadata": {},
   "outputs": [],
   "source": [
    "# Nombres pairs entre 0 et 20\n",
    "pairs = [x for x in range(21) if x % 2 == 0]\n",
    "print(pairs)"
   ]
  },
  {
   "cell_type": "markdown",
   "id": "5ddcd8b7",
   "metadata": {},
   "source": [
    "### f. Exercices sur les listes"
   ]
  },
  {
   "cell_type": "markdown",
   "id": "eec13e51",
   "metadata": {},
   "source": [
    "🧩 Vous disposez d’une liste de notes sur 20.  \n",
    "\n",
    "Affichez :\n",
    "- la note maximale,\n",
    "- la note minimale,\n",
    "- la moyenne des notes,\n",
    "- le nombre de notes supérieures à 15."
   ]
  },
  {
   "cell_type": "code",
   "execution_count": null,
   "id": "34a52421",
   "metadata": {},
   "outputs": [],
   "source": [
    "notes = [12, 15, 17, 9, 13, 18, 10]\n",
    "\n",
    "# Votre code ici"
   ]
  },
  {
   "cell_type": "markdown",
   "id": "638471fd",
   "metadata": {},
   "source": [
    "\\\n",
    "\\\n",
    "\\\n",
    "🧩 Créez une liste en compréhension contenant les carrés des entiers entre 0 et 30 qui sont :\n",
    "- impairs\n",
    "- et dont le carré est supérieur à 100  \n",
    "\n",
    "Résultat attendu : [121, 169, 225, 289, 361, 441, 529, 625, 729]"
   ]
  },
  {
   "cell_type": "code",
   "execution_count": null,
   "id": "4794b034",
   "metadata": {},
   "outputs": [],
   "source": [
    "# Votre code ici"
   ]
  },
  {
   "cell_type": "markdown",
   "id": "5ecd50c9",
   "metadata": {},
   "source": [
    "\\\n",
    "\\\n",
    "\\\n",
    "🧩 Écrivez une fonction `clean(liste: lst)` qui :  \n",
    "- prend une liste contenant des nombres et des chaînes\n",
    "- retourne une nouvelle liste ne contenant que les nombres positifs, arrondis à l’entier inférieur"
   ]
  },
  {
   "cell_type": "code",
   "execution_count": null,
   "id": "9d1bc86a",
   "metadata": {},
   "outputs": [],
   "source": [
    "# Exemple :\n",
    "donnees = [3.5, \"ok\", -2, 8, \"erreur\", 9.99]\n",
    "# Résultat attendu : [3, 8, 9]\n",
    "\n",
    "# Votre code ici"
   ]
  },
  {
   "cell_type": "markdown",
   "id": "7a82956b",
   "metadata": {},
   "source": [
    "___"
   ]
  },
  {
   "cell_type": "markdown",
   "id": "7bc400b4",
   "metadata": {},
   "source": [
    "## 📒 3. Dictionnaires"
   ]
  },
  {
   "cell_type": "markdown",
   "id": "f2d8dd6b",
   "metadata": {},
   "source": [
    "Un dictionnaire est une structure de données **ordonnée** (depuis Python 3.7) qui associe une **clé** à une **valeur**.\n",
    "\\\n",
    "\\\n",
    "\\\n",
    "📌 Syntaxe de base :\n",
    "```python\n",
    "my_dictionary = {\n",
    "    \"clé1\": \"valeur1\",\n",
    "    \"clé2\": \"valeur2\"\n",
    "}\n",
    "```\n",
    "\n",
    "Les clés peuvent être des chaînes, des entiers, ou tout type immuable.  \n",
    "Les valeurs peuvent être n’importe quoi : int, str, liste, dictionnaire imbriqué, etc."
   ]
  },
  {
   "cell_type": "code",
   "execution_count": null,
   "id": "dcc30937",
   "metadata": {},
   "outputs": [],
   "source": [
    "student = {\n",
    "    \"nom\": \"Alice\",\n",
    "    \"age\": 23,\n",
    "    \"notes\": [15, 18, 12]\n",
    "}\n",
    "\n",
    "print(student[\"nom\"])\n",
    "print(student[\"notes\"])"
   ]
  },
  {
   "cell_type": "markdown",
   "id": "6a65f25f",
   "metadata": {},
   "source": [
    "### a. Ajout modification, suppression"
   ]
  },
  {
   "cell_type": "code",
   "execution_count": null,
   "id": "59e2b60b",
   "metadata": {},
   "outputs": [],
   "source": [
    "# Ajout d'un champ\n",
    "student[\"email\"] = \"alice@example.com\"\n",
    "\n",
    "# Modification\n",
    "student[\"age\"] = 24\n",
    "\n",
    "# Suppression\n",
    "del student[\"notes\"]\n",
    "\n",
    "print(student)"
   ]
  },
  {
   "cell_type": "markdown",
   "id": "5e216641",
   "metadata": {},
   "source": [
    "### b. Méthodes utiles des dictionnaires"
   ]
  },
  {
   "cell_type": "code",
   "execution_count": null,
   "id": "4ef75192",
   "metadata": {},
   "outputs": [],
   "source": [
    "# Récupération de toutes les clés\n",
    "print(student.keys())\n",
    "\n",
    "# Récupération de toutes les valeurs\n",
    "print(student.values())\n",
    "\n",
    "# Récupération clé/valeur\n",
    "for key, value in student.items():\n",
    "    print(key, \":\", value)"
   ]
  },
  {
   "cell_type": "markdown",
   "id": "24624a65",
   "metadata": {},
   "source": [
    "### c. Dictionnaires imbriqués"
   ]
  },
  {
   "cell_type": "markdown",
   "id": "7ad4f2d7",
   "metadata": {},
   "source": [
    "Un dictionnaire peut contenir un autre dictionnaire, très utile pour modéliser des objets complexes."
   ]
  },
  {
   "cell_type": "code",
   "execution_count": null,
   "id": "5d0e7a99",
   "metadata": {},
   "outputs": [],
   "source": [
    "classroom = {\n",
    "    \"student1\": {\"name\": \"Alice\", \"age\": 23},\n",
    "    \"student2\": {\"name\": \"Bob\", \"age\": 25}\n",
    "}\n",
    "\n",
    "print(classroom[\"student1\"][\"name\"])"
   ]
  },
  {
   "cell_type": "markdown",
   "id": "188d5551",
   "metadata": {},
   "source": [
    "### d. Techniques utiles sur les dictionnaires"
   ]
  },
  {
   "cell_type": "markdown",
   "id": "e0ffe2db",
   "metadata": {},
   "source": [
    "Il est possible de transformer une liste en dictionnaire (avec `enumerate` ou `zip`)"
   ]
  },
  {
   "cell_type": "code",
   "execution_count": null,
   "id": "6b6bb5f1",
   "metadata": {},
   "outputs": [],
   "source": [
    "# Avec enumerate\n",
    "names = [\"Alice\", \"Bob\", \"Charlie\"]\n",
    "dictionary = {i: name for i, name in enumerate(names)}\n",
    "print(dictionary)\n",
    "\n",
    "# Avec zip\n",
    "keys = [\"name\", \"age\", \"location\"]\n",
    "values = [\"Alice\", 23, \"Paris\"]\n",
    "dictionary = dict(zip(keys, values))\n",
    "print(dictionary)"
   ]
  },
  {
   "cell_type": "markdown",
   "id": "ecb76782",
   "metadata": {},
   "source": [
    "### d. Exercices sur les dictionnaires"
   ]
  },
  {
   "cell_type": "markdown",
   "id": "ee48b46f",
   "metadata": {},
   "source": [
    "🧩 Créez un dictionnaire `person` contenant :\n",
    "- `name` (str),\n",
    "- `age` (int),\n",
    "- `location` (str),\n",
    "- `is_Student` (bool).\n",
    "\n",
    "\n",
    "Affiche un message personnalisé selon si la personne est étudiante ou non :  \n",
    "`\"Alice, 23 ans, vit à Paris et est étudiante.\"` ou `\"Alice, 30 ans, vit à Paris et n'est pas étudiante.\"`"
   ]
  },
  {
   "cell_type": "code",
   "execution_count": null,
   "id": "b362da86",
   "metadata": {},
   "outputs": [],
   "source": [
    "# Votre code ici"
   ]
  },
  {
   "cell_type": "markdown",
   "id": "da80ca3c",
   "metadata": {},
   "source": [
    "\\\n",
    "\\\n",
    "\\\n",
    "🧩 Soit le dictionnaire `products` :\n",
    "```python\n",
    "products = {\n",
    "    \"stylo\": 1.5,\n",
    "    \"cahier\": 2.3,\n",
    "    \"souris\": 15.0,\n",
    "    \"clavier\": 25.0,\n",
    "    \"usb\": 8.0\n",
    "}\n",
    "\n",
    "1. Affichez uniquement les produits dont le prix est inférieur à 10€.\n",
    "2. Affichez le prix moyen des produits."
   ]
  },
  {
   "cell_type": "code",
   "execution_count": null,
   "id": "ae08539b",
   "metadata": {},
   "outputs": [],
   "source": [
    "# Votre code ici"
   ]
  },
  {
   "cell_type": "markdown",
   "id": "04270d20",
   "metadata": {},
   "source": [
    "\\\n",
    "\\\n",
    "\\\n",
    "🧩 On souhaite simuler une commande simple. Soit le dictionnaire des stocks :\n",
    "```python\n",
    "stock = {\n",
    "    \"pomme\": 5,\n",
    "    \"banane\": 3,\n",
    "    \"orange\": 0\n",
    "}\n",
    "\n",
    "1. Demandez à l’utilisateur de saisir un fruit (input).\n",
    "2. Si le fruit existe et est dispo (stock > 0), confirmez la commande et décrémentez le stock.\n",
    "3. Sinon, affichez un message d’erreur."
   ]
  },
  {
   "cell_type": "code",
   "execution_count": null,
   "id": "fb2c1533",
   "metadata": {},
   "outputs": [],
   "source": [
    "# Votre code ici"
   ]
  },
  {
   "cell_type": "markdown",
   "id": "592e4705",
   "metadata": {},
   "source": [
    "\\\n",
    "\\\n",
    "\\\n",
    "🧩 Créez un dictionnaire `courses` où :\n",
    "- chaque clé est un nom de cours (ex: \"math\", \"python\"),\n",
    "- chaque valeur est une liste de noms d'élèves.\n",
    "\n",
    "1. Affiche tous les élèves inscrits en \"python\".\n",
    "2. Ajoute un nouvel élève dans le cours de ton choix.\n",
    "3. Affiche tous les cours et le nombre d’élèves dans chacun."
   ]
  },
  {
   "cell_type": "code",
   "execution_count": null,
   "id": "8b4f7a45",
   "metadata": {},
   "outputs": [],
   "source": [
    "# Votre code ici"
   ]
  },
  {
   "cell_type": "markdown",
   "id": "ab42ece1",
   "metadata": {},
   "source": [
    "___"
   ]
  },
  {
   "cell_type": "markdown",
   "id": "2d74ee9d",
   "metadata": {},
   "source": [
    "## 📇 4. Tuples"
   ]
  },
  {
   "cell_type": "markdown",
   "id": "872e07bc",
   "metadata": {},
   "source": [
    "Un tuple est une structure de données **ordonnée** et **immuable**. Contrairement aux listes, **on ne peut pas modifier un tuple après sa création**.\n",
    "\\\n",
    "\\\n",
    "\\\n",
    "📌 Syntaxe de base :\n",
    "```python\n",
    "my_tuple = (element_1, element_2, element_3)\n",
    "```\n",
    "\\\n",
    "Les éléments peuvent être de n’importe quel type : int, str, liste, etc.\n",
    "\n",
    "Les tuples sont souvent utilisés pour retourner plusieurs valeurs d’une fonction."
   ]
  },
  {
   "cell_type": "markdown",
   "id": "375806d3",
   "metadata": {},
   "source": [
    "### a. Création & accès aux valeurs"
   ]
  },
  {
   "cell_type": "code",
   "execution_count": null,
   "id": "5e19cfdd",
   "metadata": {},
   "outputs": [],
   "source": [
    "# Exemple\n",
    "student = (\"Alice\", 23, [15, 18, 12])\n",
    "\n",
    "print(student[0])  # Alice\n",
    "print(student[2])  # [15, 18, 12]"
   ]
  },
  {
   "cell_type": "markdown",
   "id": "1c8bfec7",
   "metadata": {},
   "source": [
    "### b. Tentative de modification"
   ]
  },
  {
   "cell_type": "code",
   "execution_count": null,
   "id": "e17475a7",
   "metadata": {},
   "outputs": [],
   "source": [
    "student[1] = 24  # ❌ TypeError : les tuples ne peuvent pas être modifiés"
   ]
  },
  {
   "cell_type": "markdown",
   "id": "a0723ad1",
   "metadata": {},
   "source": [
    "### c. Déballage des valeurs (tuple unpacking)"
   ]
  },
  {
   "cell_type": "code",
   "execution_count": null,
   "id": "32e7b074",
   "metadata": {},
   "outputs": [],
   "source": [
    "name, age, notes = student\n",
    "print(name)\n",
    "print(age)\n",
    "print(notes)"
   ]
  },
  {
   "cell_type": "markdown",
   "id": "c1fa9c07",
   "metadata": {},
   "source": [
    "### d. Exercices sur les tuples"
   ]
  },
  {
   "cell_type": "markdown",
   "id": "a2f0b3b1",
   "metadata": {},
   "source": [
    "🧩 Informations personnelles\n",
    "- Créez un tuple profil contenant : name, age, location.\n",
    "- Affichez uniquement le nom et la ville.\n",
    "- Utilisez le tuple unpacking pour stocker les données dans trois variables."
   ]
  },
  {
   "cell_type": "code",
   "execution_count": null,
   "id": "2a5c6755",
   "metadata": {},
   "outputs": [],
   "source": [
    "# Votre code ici"
   ]
  },
  {
   "cell_type": "markdown",
   "id": "169e4dae",
   "metadata": {},
   "source": [
    "\\\n",
    "\\\n",
    "\\\n",
    "🧩 Coordonnées GPS\n",
    "- Créez un tuple coordonnées de la forme (latitude, longitude)\n",
    "- Affichez un message formaté : `\"La position actuelle est à LATITUDE°N, LONGITUDE°E\"`"
   ]
  },
  {
   "cell_type": "code",
   "execution_count": null,
   "id": "ea699d5b",
   "metadata": {},
   "outputs": [],
   "source": [
    "# Votre code ici"
   ]
  },
  {
   "cell_type": "markdown",
   "id": "b84a6a9e",
   "metadata": {},
   "source": [
    "\\\n",
    "\\\n",
    "\\\n",
    "🧩 Liste de films\n",
    "- Créez une liste de tuples, chaque tuple contenant : titre du film, année de sortie.\n",
    "- Affichez les titres des films sortis après 2010."
   ]
  },
  {
   "cell_type": "code",
   "execution_count": null,
   "id": "c7b38b93",
   "metadata": {},
   "outputs": [],
   "source": [
    "# Votre code ici"
   ]
  },
  {
   "cell_type": "markdown",
   "id": "b1cf0d87",
   "metadata": {},
   "source": [
    "\\\n",
    "\\\n",
    "\\\n",
    "🧩 Fonction qui retourne plusieurs valeurs\n",
    "- Créez une fonction calculate_stats(notes) qui retourne (average, min, max)\n",
    "- Appellez cette fonction avec une liste [15, 12, 18, 9]\n",
    "- Utilisez *tuple unpacking* pour récupérer les trois valeurs"
   ]
  },
  {
   "cell_type": "code",
   "execution_count": null,
   "id": "dc85935d",
   "metadata": {},
   "outputs": [],
   "source": [
    "# Votre code ici"
   ]
  },
  {
   "cell_type": "markdown",
   "id": "dc19f881",
   "metadata": {},
   "source": [
    "___"
   ]
  },
  {
   "cell_type": "markdown",
   "id": "f129d889",
   "metadata": {},
   "source": [
    "## 🗄️ 5. Set (Ensemble)"
   ]
  },
  {
   "cell_type": "markdown",
   "id": "5009c219",
   "metadata": {},
   "source": [
    "Un set est une structure de données **non ordonnée**, **non indexée**, et **sans doublons**.\n",
    "\\\n",
    "\\\n",
    "\\\n",
    "📌 Syntaxe de base :\n",
    "```python\n",
    "notes = {15, 18, 12, 18}\n",
    "print(notes)  # {12, 18, 15} — pas d’ordre, doublon supprimé\n",
    "```"
   ]
  },
  {
   "cell_type": "markdown",
   "id": "e0112ebc",
   "metadata": {},
   "source": [
    "### a. Ajout, suppression"
   ]
  },
  {
   "cell_type": "code",
   "execution_count": null,
   "id": "282945bf",
   "metadata": {},
   "outputs": [],
   "source": [
    "notes = {15, 18, 12, 18}\n",
    "\n",
    "# Ajout d'une note\n",
    "notes.add(20)\n",
    "\n",
    "# Suppression\n",
    "notes.remove(15)\n",
    "\n",
    "print(notes)"
   ]
  },
  {
   "cell_type": "markdown",
   "id": "74305c68",
   "metadata": {},
   "source": [
    "### b. Opérations ensemblistes"
   ]
  },
  {
   "cell_type": "markdown",
   "id": "8ec876a9",
   "metadata": {},
   "source": [
    "Les sets permettent de réaliser des opérations mathématiques classiques sur les ensembles, très utiles pour comparer des groupes d’éléments.\n",
    "\n",
    "📌 Voici les principales opérations :\n",
    "- **Union (|)** : combine les éléments de deux ensembles (sans doublons)\n",
    "- **Intersection (&)** : récupère uniquement les éléments communs aux deux\n",
    "- **Différence (-)** : éléments présents dans le premier, mais pas dans le second\n",
    "- **Différence symétrique (^)** : éléments présents dans un seul des deux ensembles"
   ]
  },
  {
   "cell_type": "code",
   "execution_count": null,
   "id": "e15637c3",
   "metadata": {},
   "outputs": [],
   "source": [
    "a = {1, 2, 3}\n",
    "b = {3, 4, 5}\n",
    "\n",
    "print(a | b)  # {1, 2, 3, 4, 5} → union\n",
    "print(a & b)  # {3}             → intersection\n",
    "print(a - b)  # {1, 2}          → différence\n",
    "print(a ^ b)  # {1, 2, 4, 5}    → différence symétrique"
   ]
  },
  {
   "cell_type": "markdown",
   "id": "ba2c7a45",
   "metadata": {},
   "source": [
    "### c. Exercices sur les sets"
   ]
  },
  {
   "cell_type": "markdown",
   "id": "03b5b695",
   "metadata": {},
   "source": [
    "🧩 Invités à une soirée\n",
    "- Créez un set invites avec 5 noms.\n",
    "- Ajoutez un nom déjà présent. Que se passe-t-il ?\n",
    "- Supprimez un nom et affichez le set final."
   ]
  },
  {
   "cell_type": "code",
   "execution_count": null,
   "id": "b339d368",
   "metadata": {},
   "outputs": [],
   "source": [
    "# Votre code ici"
   ]
  },
  {
   "cell_type": "markdown",
   "id": "bcd5d63f",
   "metadata": {},
   "source": [
    "\\\n",
    "\\\n",
    "\\\n",
    "🧩 Comparaison de groupes\n",
    "- Créez deux sets : python (étudiants inscrits à Python) et js (étudiants en JS).\n",
    "- Affichez :\n",
    "\t- Ceux qui suivent les deux cours\n",
    "\t- Ceux qui suivent seulement Python\n",
    "\t- Ceux qui suivent au moins un des deux"
   ]
  },
  {
   "cell_type": "code",
   "execution_count": null,
   "id": "bca39ebe",
   "metadata": {},
   "outputs": [],
   "source": [
    "# Votre code ici"
   ]
  },
  {
   "cell_type": "markdown",
   "id": "6b393aa2",
   "metadata": {},
   "source": [
    "\\\n",
    "\\\n",
    "\\\n",
    "🧩 Suppression des doublons\n",
    "- Créez une liste notes = [15, 18, 12, 18, 15, 19]\n",
    "- Transformez-la en set pour éliminer les doublons.\n",
    "- Affichez la liste originale et la version unique."
   ]
  },
  {
   "cell_type": "code",
   "execution_count": null,
   "id": "50aea978",
   "metadata": {},
   "outputs": [],
   "source": [
    "# Votre code ici"
   ]
  },
  {
   "cell_type": "markdown",
   "id": "4f9c34d9",
   "metadata": {},
   "source": [
    "\\\n",
    "\\\n",
    "\\\n",
    "🧩 Alphabet des voyelles\n",
    "- Créez un set voyelles = set(\"aeiouy\")\n",
    "- Demande une phrase à l’utilisateur.\n",
    "- Affichez les voyelles présentes dans la phrase."
   ]
  },
  {
   "cell_type": "code",
   "execution_count": null,
   "id": "99ec7b57",
   "metadata": {},
   "outputs": [],
   "source": [
    "# Votre code ici"
   ]
  },
  {
   "cell_type": "markdown",
   "id": "4b6b138d",
   "metadata": {},
   "source": [
    "___"
   ]
  },
  {
   "cell_type": "markdown",
   "id": "01e1e66b",
   "metadata": {},
   "source": [
    "## 📂 6. Lire et écrire dans un fichier texte\n",
    "\n",
    "Travailler avec des fichiers permet de **sauvegarder des données** de manière persistante, même après la fermeture du programme.\n",
    "\n",
    "Python fournit plusieurs méthodes pour **ouvrir, lire, écrire, et modifier** des fichiers texte (`.txt`, `.csv`, etc.).\n",
    "\n",
    "📌 Fonctions clés :\n",
    "- `open(\"fichier.txt\", \"mode\")`\n",
    "- `write()`, `read()`, `readlines()`\n",
    "- `with` : pour gérer automatiquement la fermeture du fichier"
   ]
  },
  {
   "cell_type": "markdown",
   "id": "ccc3a76c",
   "metadata": {},
   "source": [
    "### a. Écrire et lire dans un fichier (mode `w`)"
   ]
  },
  {
   "cell_type": "code",
   "execution_count": null,
   "id": "a567513a",
   "metadata": {},
   "outputs": [],
   "source": [
    "# Écriture dans un fichier\n",
    "with open(\"exemple.txt\", \"w\") as f:\n",
    "    f.write(\"Bonjour, ceci est un fichier texte.\\n\")\n",
    "    f.write(\"On peut y écrire plusieurs lignes.\")"
   ]
  },
  {
   "cell_type": "code",
   "execution_count": null,
   "id": "0866c779",
   "metadata": {},
   "outputs": [],
   "source": [
    "# Lecture du fichier\n",
    "with open(\"exemple.txt\", \"r\") as f:\n",
    "    content = f.read()\n",
    "    print(content)"
   ]
  },
  {
   "cell_type": "code",
   "execution_count": null,
   "id": "a88cb5d4",
   "metadata": {},
   "outputs": [],
   "source": [
    "# Lire ligne par ligne avec une boucle\n",
    "with open(\"exemple.txt\", \"r\") as f:\n",
    "    for line in f:\n",
    "        print(\"Ligne lue :\", line.strip())  # .strip() supprime le saut de ligne"
   ]
  },
  {
   "cell_type": "markdown",
   "id": "c627211b",
   "metadata": {},
   "source": [
    "### b. Ajouter du contenu sans écraser le contenu existant (mode `a`)"
   ]
  },
  {
   "cell_type": "code",
   "execution_count": null,
   "id": "e930a9eb",
   "metadata": {},
   "outputs": [],
   "source": [
    "# Ajout d'une ligne à la fin du fichier\n",
    "with open(\"exemple.txt\", \"a\") as f:\n",
    "    f.write(\"\\nAjout d'une troisième ligne.\")"
   ]
  },
  {
   "cell_type": "markdown",
   "id": "6244d446",
   "metadata": {},
   "source": [
    "### c. Exercices sur les fichiers"
   ]
  },
  {
   "cell_type": "markdown",
   "id": "e5daf61b",
   "metadata": {},
   "source": [
    "🧩 **Système de contacts**  \n",
    "\n",
    "1. Demandez à l'utilisateur de saisir un **nom** et un **numéro de téléphone**\n",
    "2. Écrivez ces informations dans un fichier `contacts.txt`, au format : `Nom - Numéro`\n",
    "3. Affichez tous les contacts enregistrés à la fin du programme"
   ]
  },
  {
   "cell_type": "code",
   "execution_count": null,
   "id": "622e7bb3",
   "metadata": {},
   "outputs": [],
   "source": [
    "# Votre code ici"
   ]
  },
  {
   "cell_type": "markdown",
   "id": "2e230548",
   "metadata": {},
   "source": [
    "___"
   ]
  },
  {
   "cell_type": "markdown",
   "id": "50751df7",
   "metadata": {},
   "source": [
    "🎉 Bravo pour cette journée !  \n",
    "Prochaine étape : la Programmation Orientée Objet (POO) !"
   ]
  }
 ],
 "metadata": {
  "kernelspec": {
   "display_name": ".venv",
   "language": "python",
   "name": "python3"
  },
  "language_info": {
   "codemirror_mode": {
    "name": "ipython",
    "version": 3
   },
   "file_extension": ".py",
   "mimetype": "text/x-python",
   "name": "python",
   "nbconvert_exporter": "python",
   "pygments_lexer": "ipython3",
   "version": "3.13.3"
  }
 },
 "nbformat": 4,
 "nbformat_minor": 5
}
